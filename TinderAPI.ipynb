{
  "nbformat": 4,
  "nbformat_minor": 0,
  "metadata": {
    "colab": {
      "name": "TinderAPI.ipynb",
      "provenance": []
    },
    "kernelspec": {
      "name": "python3",
      "display_name": "Python 3"
    },
    "language_info": {
      "name": "python"
    }
  },
  "cells": [
    {
      "cell_type": "code",
      "metadata": {
        "id": "YCBSkOAhqcq-"
      },
      "source": [
        " #INITIALISE FIREBASE"
      ],
      "execution_count": 1,
      "outputs": []
    },
    {
      "cell_type": "code",
      "metadata": {
        "id": "5f6y0Jrpwf70"
      },
      "source": [
        "import firebase_admin"
      ],
      "execution_count": 2,
      "outputs": []
    },
    {
      "cell_type": "code",
      "metadata": {
        "id": "iVVJuYFQwkcE"
      },
      "source": [
        "from firebase_admin import auth, firestore, storage,credentials"
      ],
      "execution_count": 3,
      "outputs": []
    },
    {
      "cell_type": "code",
      "metadata": {
        "id": "A3iPKyh4wsms"
      },
      "source": [
        "#FIREBASE DATA START\n",
        "\n",
        "cred = credentials.Certificate(\"/content/tinder-api-f39b9-firebase-adminsdk-9pf47-3a38bb51d5.json\")\n",
        "firebase_admin.initialize_app(cred)\n",
        "# {'databaseURL': ''}\n",
        "store = firestore.client()\n"
      ],
      "execution_count": 4,
      "outputs": []
    },
    {
      "cell_type": "code",
      "metadata": {
        "colab": {
          "base_uri": "https://localhost:8080/"
        },
        "id": "8Uxgmtiy0QJZ",
        "outputId": "3c5ea2ce-b02b-4680-f8fa-9006e28dc499"
      },
      "source": [
        "#Auth's Code/ User Signup\n",
        "\n",
        "user = auth.create_user(\n",
        "    email='sabi@vora.to',\n",
        "    email_verified=False,\n",
        "    password='987654')\n",
        "print('Sucessfully created new user: {0}'.format(user.uid))"
      ],
      "execution_count": 6,
      "outputs": [
        {
          "output_type": "stream",
          "text": [
            "Sucessfully created new user: mRadKGXKFTgPIITRmYiCKiHp8U33\n"
          ],
          "name": "stdout"
        }
      ]
    },
    {
      "cell_type": "code",
      "metadata": {
        "id": "IEP6mOrM0syZ"
      },
      "source": [
        "# User Login\n",
        "try:\n",
        "  user = auth.get_user_by_email(\"sab@vora.t\")\n",
        "  print(user.uid)\n",
        "except:\n",
        "    print(\"Error No User Found\")"
      ],
      "execution_count": null,
      "outputs": []
    },
    {
      "cell_type": "code",
      "metadata": {
        "id": "xyXQMyX_5Ybg"
      },
      "source": [
        "#Database-->\n",
        "def signUp(emailOfUser,passwordOfUser):\n",
        "  uid = \"\"\n",
        "  message = \"\"\n",
        "  try:\n",
        "    user = auth.create_user(\n",
        "        email = emailOfUser,\n",
        "        email_verified=False,\n",
        "        password=passwordOfuser)\n",
        "    message = \"Successfully created new user\"\n",
        "    uid = user.uid\n",
        "  except:\n",
        "    message = \"User Already Exist\"\n",
        "\n",
        "    return {\"uid\": uid, \"message\" : message}\n",
        "    "
      ],
      "execution_count": 7,
      "outputs": []
    },
    {
      "cell_type": "code",
      "metadata": {
        "colab": {
          "base_uri": "https://localhost:8080/"
        },
        "id": "MALpWoo9EHcB",
        "outputId": "e3672e36-4f38-4530-e1c1-94e5340d72d0"
      },
      "source": [
        "signUp(\"sabihavora19@gmail.com\", \"1234567\")"
      ],
      "execution_count": 11,
      "outputs": [
        {
          "output_type": "execute_result",
          "data": {
            "text/plain": [
              "{'message': 'User Already Exist', 'uid': ''}"
            ]
          },
          "metadata": {
            "tags": []
          },
          "execution_count": 11
        }
      ]
    },
    {
      "cell_type": "code",
      "metadata": {
        "id": "N69V96hfFEiB"
      },
      "source": [
        "def Login(emailOfUser,passwordOfUser):\n",
        "  uid = \"\"\n",
        "  message = \"\"\n",
        "  try:\n",
        "    user = auth.get_user_by_email(emailOfUser)\n",
        "    message = \"Successfully created new user\"\n",
        "    uid = user.uid\n",
        "  except:\n",
        "    message = \"User doesnt Exist in firebase.\"\n",
        "\n",
        "    return {\"uid\": uid, \"message\" : message}\n",
        "    "
      ],
      "execution_count": 9,
      "outputs": []
    },
    {
      "cell_type": "code",
      "metadata": {
        "colab": {
          "base_uri": "https://localhost:8080/"
        },
        "id": "QT-h9U8mFmW9",
        "outputId": "622f021d-e58c-401a-9685-d56bf08ffff2"
      },
      "source": [
        "Login(\"john@yahoo.com\", \"552233\")"
      ],
      "execution_count": 10,
      "outputs": [
        {
          "output_type": "execute_result",
          "data": {
            "text/plain": [
              "{'message': 'User doesnt Exist in firebase.', 'uid': ''}"
            ]
          },
          "metadata": {
            "tags": []
          },
          "execution_count": 10
        }
      ]
    },
    {
      "cell_type": "code",
      "metadata": {
        "id": "0KWf7fUpF0cv"
      },
      "source": [
        "#Update the User Profile\n",
        "def updateUserData(dit):\n",
        "  dit_user_details['name'] = dit.get(\"name\")\n",
        "  dit_user_details[\"number\"] \n",
        "  dit_user_details [\"image\"] \n",
        "  dit_user_details [\"desc\"] \n",
        "  dit_user_details [\"location\"] \n",
        "  dit_user_details[\"dob\"]\n",
        "  dit_user_details [\"gender\"] \n",
        "  dit_user_details[\"passion\"] \n",
        "  dit_user_details [\"job\"] \n",
        "  dit_user_details [\"company\"]"
      ],
      "execution_count": 12,
      "outputs": []
    },
    {
      "cell_type": "code",
      "metadata": {
        "id": "zvK7vMBFIX8y"
      },
      "source": [
        "dit = {}\n",
        "dit [\"name\"] = \"Sabiha\"\n",
        "dit [\"number\"] = \"8546321040\"\n",
        "dit [\"image\"] = \"\"\n",
        "dit [\"desc\"] = \"Single\"\n",
        "dit [\"location\"] = {\"coordinate\":{\"lat\":29.2645, \"lng\":78.4978},\n",
        "                    \"city\": \"Mumbai\",\n",
        "                    \"State\": \"Maharashtra\",\n",
        "                    \"Country\": \"India\"}\n",
        "dit [\"dob\"] = \"19/01/1995\"\n",
        "dit [\"gender\"] = \"Female\"\n",
        "dit [\"passion\"] = \"developing\"\n",
        "dit [\"job\"] = \"freelancer\"\n",
        "dit [\"company\"] = \"LetsUpgrade\""
      ],
      "execution_count": null,
      "outputs": []
    }
  ]
}